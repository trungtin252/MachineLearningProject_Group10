{
 "cells": [
  {
   "cell_type": "code",
   "execution_count": 25,
   "metadata": {},
   "outputs": [
    {
     "name": "stdout",
     "output_type": "stream",
     "text": [
      "(1438900, 7)\n",
      "(1438900,)\n"
     ]
    }
   ],
   "source": [
    "import numpy as np\n",
    "import pandas as pd\n",
    "from sklearn.metrics import accuracy_score, precision_score, recall_score, f1_score\n",
    "from sklearn.metrics import accuracy_score, confusion_matrix, classification_report\n",
    "from sklearn.model_selection import train_test_split, KFold, cross_validate\n",
    "from sklearn.preprocessing import LabelEncoder, StandardScaler, MinMaxScaler\n",
    "from sklearn.linear_model import LogisticRegression\n",
    "import matplotlib.pyplot as plt\n",
    "from sklearn.multiclass import OneVsRestClassifier\n",
    "\n",
    "# Doc du lieu\n",
    "df = pd.read_csv(\"./Crime_Data_from_2020_to_Present.csv\", sep=\",\")\n",
    "\n",
    "# Lay thuoc tinh va nhan\n",
    "data = df[['TIME OCC', 'AREA', 'Vict Age', 'Vict Sex', 'Vict Descent', 'Premis Cd', 'Weapon Used Cd', 'Crm Cd']]\n",
    "\n",
    "data = data.dropna()\n",
    "# print(data.info())\n",
    "\n",
    "\n",
    "\n",
    "# Ma hoa nhan\n",
    "le = LabelEncoder()\n",
    "data['Vict Sex'] = le.fit_transform(data['Vict Sex'])\n",
    "data['Vict Descent'] = le.fit_transform(data['Vict Descent'])\n",
    "data['AREA'] = le.fit_transform(data['AREA'])\n",
    "\n",
    "# #Scale du lieu (chuan hoa du lieu dung min max)\n",
    "# scaler = MinMaxScaler()\n",
    "# data[['Premis Cd', 'Vict Age']] = scaler.fit_transform(data[['Premis Cd','Vict Age']])\n",
    "\n",
    "# Chuan hoa thoi gian\n",
    "def categorize_time_period(time_occ):\n",
    "    if 600 <= time_occ < 1200: # 06:00 to 12:00 Moring\n",
    "        return 0\n",
    "    elif 1200 <= time_occ < 1800 :  # 12:00 to 18:00 Afternoon\n",
    "        return 1\n",
    "    elif 1800 <= time_occ <= 2400 : # 18:00 to 24:00 Night\n",
    "        return 2\n",
    "    else: # Middal night\n",
    "        return 3\n",
    "\n",
    "def categorize_age(age):\n",
    "    if 0 <= age <= 5:\n",
    "        return 0\n",
    "    elif 6 <= age <= 12:\n",
    "        return 1\n",
    "    elif 13 <= age <= 17:\n",
    "        return 2\n",
    "    elif 18 <= age <= 25:\n",
    "        return 3\n",
    "    elif 26 <= age <= 45:\n",
    "        return 4\n",
    "    elif 46 <= age <= 65:\n",
    "        return 5\n",
    "    else:\n",
    "        return 6\n",
    "\n",
    "def categorize_crime_type(crime_code):\n",
    "    # Danh sách mã tội phạm cho từng loại\n",
    "    violent_crimes = [\n",
    "        110, 113, 121, 122, 210, 220, 230, 231,\n",
    "        235, 236, 250, 251, 310, 320, 330, 622,\n",
    "        623, 624, 625, 626, 627, 648, 753, 755,\n",
    "        756, 810, 812, 813, 860, 865, 870, 880,\n",
    "        882, 884, 886, 910, 921, 922, 928, 930,\n",
    "        940, 950, 943, 944, 946, 948, 949\n",
    "    ]\n",
    "\n",
    "    sexual_offenses = [\n",
    "        121, 122, 760, 761, 762, 763, 805, 806,\n",
    "        810, 812, 813, 814, 815, 820, 821, 830,\n",
    "        840, 845, 850\n",
    "    ]\n",
    "\n",
    "    theft_property_crimes = [\n",
    "        210, 220, 310, 320, 330, 331, 341, 343,\n",
    "        345, 347, 349, 350, 351, 352, 353, 354,\n",
    "        410, 420, 421, 440, 441, 442, 443, 444,\n",
    "        450, 451, 452, 473, 474, 480, 485, 487,\n",
    "        510, 520, 522, 668, 670, 740, 745\n",
    "    ]\n",
    "\n",
    "    economic_fraud_crimes = [\n",
    "        649, 651, 652, 653, 654, 660, 661,\n",
    "        662, 664, 666, 668, 670, 950, 951, 956\n",
    "    ]\n",
    "\n",
    "    # social_legal_violations = [\n",
    "    #     432, 433, 434, 435, 436, 437, 438,\n",
    "    #     439, 440, 441, 442, 443, 444, 445,\n",
    "    #     446, 450, 451, 452, 453, 470, 471,\n",
    "    #     473, 474, 475, 480, 485, 487, 510,\n",
    "    #     520, 522, 622, 623, 624, 625, 626,\n",
    "    #     627, 647, 648, 649, 651, 652, 653,\n",
    "    #     654, 660, 661, 662, 664, 666, 668,\n",
    "    #     670, 740, 745, 753, 755, 756, 760,\n",
    "    #     761, 762, 763, 805, 806, 810, 812,\n",
    "    #     813, 814, 815, 820, 821, 822, 830,\n",
    "    #     840, 845, 850, 860, 865, 870, 880,\n",
    "    #     882, 884, 886, 888, 890, 900, 901,\n",
    "    #     902, 903, 904, 906\n",
    "    # ]\n",
    "\n",
    "    # Phân loại mã tội phạm\n",
    "    if crime_code in violent_crimes:\n",
    "        return 0  # Tội phạm nghiêm trọng liên quan đến tính mạng và bạo lực\n",
    "    elif crime_code in sexual_offenses:\n",
    "        return 1  # Tội phạm tình dục\n",
    "    elif crime_code in theft_property_crimes:\n",
    "        return 2  # Tội liên quan đến trộm cắp và tài sản\n",
    "    elif crime_code in economic_fraud_crimes:\n",
    "        return 3  # Tội phạm kinh tế và gian lận\n",
    "    else:\n",
    "        return 4  # Tội phạm liên quan đến hành vi xã hội và luật pháp\n",
    "\n",
    "\n",
    "def categorize_location(premis_code):\n",
    "    residential = {502, 501, 504, 505, 507, 510, 511, 514, 515, 516, 518, 519, 508, 509, 513}\n",
    "    transportation = {101, 128, 124, 212, 801, 802, 804, 111, 113, 115, 122, 905, 910, 912, 890, 929, 937, 940, 950,\n",
    "                      893, 745, 110}\n",
    "    commercial = {405, 248, 404, 403, 410, 406, 412, 413, 201, 202, 210, 207, 233, 235, 244, 401, 402, 217, 237, 250}\n",
    "    public_space = {102, 108, 109, 104, 107, 127, 141, 143, 144, 145, 146, 147, 109, 208, 209, 149, 243, 718, 756, 757}\n",
    "    government_facility = {725, 726, 753, 214, 240}\n",
    "    educational = {720, 721, 704, 722, 730, 731, 912}\n",
    "\n",
    "    if premis_code in residential:\n",
    "        return 0  # Khu dân cư\n",
    "    elif premis_code in transportation:\n",
    "        return 1  # Giao thông vận tải\n",
    "    elif premis_code in commercial:\n",
    "        return 2  #Thương mại\n",
    "    elif premis_code in public_space:\n",
    "        return 3  # Khu vực công cộng\n",
    "    elif premis_code in government_facility:\n",
    "        return 4  # Cơ sở chính phủ\n",
    "    elif premis_code in educational:\n",
    "        return 5  # Cơ sở giáo dục\n",
    "    else:\n",
    "        return 6  # Khu vực khác\n",
    "\n",
    "\n",
    "data['TIME OCC'] = data['TIME OCC'].apply(categorize_time_period)\n",
    "data['Crm Cd'] = data['Crm Cd'].apply(categorize_crime_type)\n",
    "data['Premis Cd'] = data['Premis Cd'].apply(categorize_location)\n",
    "data['Vict Age'] = data['Vict Age'].apply(categorize_age)\n",
    "\n",
    "#Scale du lieu (chuan hoa du lieu dung min max)\n",
    "scaler = MinMaxScaler()\n",
    "data[['Premis Cd', 'Vict Age', 'Vict Sex', 'Vict Descent', 'AREA', 'TIME OCC', 'Weapon Used Cd']] = scaler.fit_transform(data[['Premis Cd', 'Vict Age','Vict Sex', 'Vict Descent', 'AREA', 'TIME OCC', 'Weapon Used Cd']])\n",
    "\n",
    "\n",
    "# Chuyen du lieu thanh dang array\n",
    "# X = data.iloc[:,: -1 ].values\n",
    "# y = data.iloc[:, -1].values\n",
    "\n",
    "\n",
    "X = data.drop(['Crm Cd'], axis = 1)\n",
    "y = data['Crm Cd']\n",
    "#under_samling\n",
    "from imblearn.under_sampling import NearMiss\n",
    "nm = NearMiss()\n",
    "# Oversampling\n",
    "from imblearn.over_sampling import RandomOverSampler\n",
    "ros = RandomOverSampler()\n",
    "X_res, y_res = ros.fit_resample(X, y)\n",
    "\n",
    "\n",
    "\n",
    "# Chuyen du lieu thanh dang array\n",
    "X_main = X_res.values\n",
    "y_main = y_res.values\n",
    "\n",
    "print(X_res.shape)\n",
    "print(y_res.shape)\n",
    "\n",
    "\n",
    "# Phan chia tap du lieu\n",
    "X_train, X_test, y_train, y_test = train_test_split(X_main, y_main, test_size=0.2, random_state=42)\n",
    "\n",
    "\n",
    "\n",
    "# Tao model\n",
    "model = LogisticRegression(solver='newton-cholesky', max_iter=1000, random_state=42)\n",
    "\n",
    "\n",
    "\n",
    "kf = KFold(n_splits=5, shuffle=True, random_state=42)\n",
    "scoring = ['accuracy', 'precision_micro', 'recall_micro', 'f1_micro']\n",
    "cv_results = cross_validate(model, X_train, y_train, cv=kf, scoring=scoring, return_estimator=True)\n"
   ]
  },
  {
   "cell_type": "code",
   "execution_count": 26,
   "metadata": {},
   "outputs": [
    {
     "name": "stdout",
     "output_type": "stream",
     "text": [
      "{'fit_time': array([3.699368  , 3.75266957, 4.30302596, 4.08489537, 4.25619602]), 'score_time': array([0.26206231, 0.33508658, 0.27506375, 0.35609341, 0.28607011]), 'estimator': [LogisticRegression(max_iter=1000, random_state=42, solver='newton-cholesky'), LogisticRegression(max_iter=1000, random_state=42, solver='newton-cholesky'), LogisticRegression(max_iter=1000, random_state=42, solver='newton-cholesky'), LogisticRegression(max_iter=1000, random_state=42, solver='newton-cholesky'), LogisticRegression(max_iter=1000, random_state=42, solver='newton-cholesky')], 'test_accuracy': array([0.46795295, 0.467549  , 0.469951  , 0.46865227, 0.46896066]), 'test_precision_micro': array([0.46795295, 0.467549  , 0.469951  , 0.46865227, 0.46896066]), 'test_recall_micro': array([0.46795295, 0.467549  , 0.469951  , 0.46865227, 0.46896066]), 'test_f1_micro': array([0.46795295, 0.467549  , 0.469951  , 0.46865227, 0.46896066])}\n"
     ]
    }
   ],
   "source": [
    "print(cv_results)"
   ]
  },
  {
   "cell_type": "code",
   "execution_count": 27,
   "metadata": {},
   "outputs": [
    {
     "data": {
      "text/plain": [
       "0.468613176732226"
      ]
     },
     "execution_count": 27,
     "metadata": {},
     "output_type": "execute_result"
    }
   ],
   "source": [
    "cv_results['test_accuracy'].mean()\n",
    "\n",
    "\n"
   ]
  },
  {
   "cell_type": "code",
   "execution_count": 28,
   "metadata": {},
   "outputs": [
    {
     "data": {
      "text/plain": [
       "0.468613176732226"
      ]
     },
     "execution_count": 28,
     "metadata": {},
     "output_type": "execute_result"
    }
   ],
   "source": [
    "cv_results['test_precision_micro'].mean()"
   ]
  },
  {
   "cell_type": "code",
   "execution_count": 29,
   "metadata": {},
   "outputs": [
    {
     "data": {
      "text/plain": [
       "0.468613176732226"
      ]
     },
     "execution_count": 29,
     "metadata": {},
     "output_type": "execute_result"
    }
   ],
   "source": [
    "cv_results['test_recall_micro'].mean()"
   ]
  },
  {
   "cell_type": "code",
   "execution_count": 30,
   "metadata": {},
   "outputs": [
    {
     "data": {
      "text/plain": [
       "0.468613176732226"
      ]
     },
     "execution_count": 30,
     "metadata": {},
     "output_type": "execute_result"
    }
   ],
   "source": [
    "cv_results['test_f1_micro'].mean()"
   ]
  }
 ],
 "metadata": {
  "kernelspec": {
   "display_name": "TriTueNhanTao",
   "language": "python",
   "name": "python3"
  },
  "language_info": {
   "codemirror_mode": {
    "name": "ipython",
    "version": 3
   },
   "file_extension": ".py",
   "mimetype": "text/x-python",
   "name": "python",
   "nbconvert_exporter": "python",
   "pygments_lexer": "ipython3",
   "version": "3.10.14"
  }
 },
 "nbformat": 4,
 "nbformat_minor": 2
}
